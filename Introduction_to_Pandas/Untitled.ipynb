{
 "cells": [
  {
   "cell_type": "markdown",
   "id": "f44a389d-9b8a-4897-8183-969d16731ad9",
   "metadata": {},
   "source": [
    "# Introduction to Pandas"
   ]
  },
  {
   "cell_type": "markdown",
   "id": "712d557c-a48d-4e18-953e-eafcaea322bc",
   "metadata": {},
   "source": [
    "___Ahmed Diab___ - `ML` and `Data Science` Engineer 💙  \n",
    "my social media communication [LeetCode profile](https://leetcode.com/u/f9QcZm2R1P/)  -  [GitHub](https://github.com/ahmeddiab1234) - [LinkedIn](https://www.linkedin.com/in/ahmed-diab-3b0631245/) - [Kaggle](https://www.kaggle.com/codecaoch)  \n",
    "I will be describing and solving the 15 problems from the ___Introduction to Pandas___ on LeetCode.\n",
    "\n",
    "In this notebook, I will walk through the solution of each problem step by step,  \n",
    "focusing on how to use the pandas library for data manipulation and analysis.  \n",
    "Each problem will be presented with its description, input-output examples,  \n",
    "and a clean and efficient solution using pandas.  \n",
    "\n",
    "the url for problems on [LeetCode](https://chatgpt.com/c/677f690d-c2e4-8009-940d-808a09ebc0fa)"
   ]
  },
  {
   "cell_type": "markdown",
   "id": "28ac91f0-8e11-4edb-8f8a-9d14f70ea093",
   "metadata": {},
   "source": [
    "### Problem 1\n",
    "#### 2877. Create a DataFrame from List [URL](https://leetcode.com/problems/create-a-dataframe-from-list/?envType=study-plan-v2&envId=introduction-to-pandas&lang=pythondata)\n"
   ]
  },
  {
   "cell_type": "markdown",
   "id": "de5a1791-6f3c-4fcc-b40c-10b3a0dd29bf",
   "metadata": {},
   "source": [
    "In this problem, we are tasked with creating a pandas DataFrame from a given 2D list called student_data, which contains pairs of `student IDs` and their corresponding ages. The goal is to transform this data into a tabular format with two columns: `student_id` and `age`.\n",
    "\n",
    "To solve this:"
   ]
  },
  {
   "cell_type": "markdown",
   "id": "5693bfb9-6a0b-43ed-a987-75b5b7691ffd",
   "metadata": {},
   "source": [
    "Use the `pandas.DataFrame()` function to convert the list of lists into a structured table (DataFrame).  \n",
    "The `columns` argument is used to specify the names of the columns, which are `student_id` and `age`."
   ]
  },
  {
   "cell_type": "markdown",
   "id": "ac7f362b-c858-44d4-98ec-cfc3f55a0834",
   "metadata": {},
   "source": [
    "<h4> The Code</h4>"
   ]
  },
  {
   "cell_type": "code",
   "execution_count": 2,
   "id": "855c570e-fae0-46f7-955a-80f0858aae70",
   "metadata": {},
   "outputs": [],
   "source": [
    "import pandas as pd\n",
    "from typing import List\n",
    "\n",
    "def createDataframe(student_data: List[List[int]]) -> pd.DataFrame:\n",
    "    df = pd.DataFrame(student_data, columns=['student_id', 'age'])\n",
    "    return df\n"
   ]
  },
  {
   "cell_type": "markdown",
   "id": "2aa08c02-c48d-4565-8432-5a9dab6354b0",
   "metadata": {},
   "source": [
    "### Problem2\n",
    "#### 2878. Get the Size of a DataFrame [URL](https://leetcode.com/problems/get-the-size-of-a-dataframe/description/?envType=study-plan-v2&envId=introduction-to-pandas&lang=pythondata)"
   ]
  },
  {
   "cell_type": "markdown",
   "id": "683abbb9-d252-4bd3-85f8-d475da0756fc",
   "metadata": {},
   "source": [
    "The task is to calculate and display the number of rows and columns of a DataFrame, specifically for a DataFrame called `players`.  \n",
    "The solution should return the dimensions of the DataFrame as a list in the form `[number of rows, number of columns]`.  \n",
    "\n",
    "The `players` DataFrame contains various columns such as `player_id`, `name`, `age`, `position`, and `potentially` other columns. The goal is to determine the size of this DataFrame using pandas methods."
   ]
  },
  {
   "cell_type": "markdown",
   "id": "f9b87684-f813-434a-bc73-1b3e2d31643e",
   "metadata": {},
   "source": [
    "___Solution___: To solve this, we can use the `.shape` attribute of a pandas DataFrame, which returns a tuple containing the number of rows and columns. We can then convert this tuple to a list and return it."
   ]
  },
  {
   "cell_type": "markdown",
   "id": "2d254fbb-d563-4437-a670-246b7fd32bfe",
   "metadata": {},
   "source": [
    "<h4>The Code</h4>"
   ]
  },
  {
   "cell_type": "code",
   "execution_count": null,
   "id": "ef453250-f5e5-4d15-9152-a1bd9c0e0026",
   "metadata": {},
   "outputs": [],
   "source": [
    "import pandas as pd\n",
    "from typing import List\n",
    "\n",
    "def getDataframeSize(players: pd.DataFrame) -> List[int]:\n",
    "    df = pd.DataFrame(players)\n",
    "    return list(df.shape)\n"
   ]
  },
  {
   "cell_type": "markdown",
   "id": "da369ccf-c9ad-4fb4-b625-89428a0c23ca",
   "metadata": {},
   "source": [
    "### Problem 3 \n",
    "#### 2879. Display the First Three Rows [URL](https://leetcode.com/problems/display-the-first-three-rows/description/?envType=study-plan-v2&envId=introduction-to-pandas&lang=pythondata)"
   ]
  },
  {
   "cell_type": "markdown",
   "id": "522bdc0d-8419-4651-9515-ed0b4f34a6ba",
   "metadata": {},
   "source": [
    "___Description___: The task is to display the first 3 rows of a DataFrame named `employees`. The DataFrame contains details about employees, including columns such as `employee_id`, `name`, `department`, and `salary`. The solution should return the top three rows of the DataFrame as output.\n",
    "\n",
    "___Solution___: To achieve this, we can use the `.head()` method from pandas, which allows us to retrieve the first `n` rows of a DataFrame. By specifying `n=3`, we can get the top three rows."
   ]
  },
  {
   "cell_type": "markdown",
   "id": "37fa66c8-e985-4090-b93a-cbe810bf527c",
   "metadata": {},
   "source": [
    "<h4>The Code</h4>"
   ]
  },
  {
   "cell_type": "code",
   "execution_count": null,
   "id": "60b48d07-289a-4049-8a25-994631f50f18",
   "metadata": {},
   "outputs": [],
   "source": [
    "import pandas as pd\n",
    "\n",
    "def selectFirstRows(employees: pd.DataFrame) -> pd.DataFrame:\n",
    "    return employees.head(3)\n"
   ]
  },
  {
   "cell_type": "markdown",
   "id": "4cf8dd58-26f0-411f-8b92-e94d8a2cbc93",
   "metadata": {},
   "source": [
    "### Problem 4\n",
    "#### 2880. Select Data [URL](https://leetcode.com/problems/select-data/description/?envType=study-plan-v2&envId=introduction-to-pandas&lang=pythondata)"
   ]
  },
  {
   "cell_type": "markdown",
   "id": "68e71fc5-9e96-4f1c-a5b3-c9d2179f51e5",
   "metadata": {},
   "source": [
    "___Description___:\n",
    "The task is to select specific data from a DataFrame named `students`. Specifically, we need to extract the `name` and `age` of the student with `student_id = 101`. The result should be a subset of the DataFrame containing only the selected columns (`name`, `age`) for the matching student.\n",
    "\n",
    "___Solution___:\n",
    "To solve this, we can filter the rows of the DataFrame where `student_id` is equal to 101. Once filtered, we select only the `name` and `age` columns from the resulting subset.\n"
   ]
  },
  {
   "cell_type": "markdown",
   "id": "ec588269-81a4-45b9-8832-222c2d9dece1",
   "metadata": {},
   "source": [
    "<h4>The Code:</h4>"
   ]
  },
  {
   "cell_type": "code",
   "execution_count": null,
   "id": "82cba0ae-ae21-418c-bcb8-ec5d6e3965a8",
   "metadata": {},
   "outputs": [],
   "source": [
    "import pandas as pd\n",
    "\n",
    "def selectData(students: pd.DataFrame) -> pd.DataFrame:\n",
    "    df = students[students['student_id'] == 101][['name', 'age']]\n",
    "    return df\n"
   ]
  },
  {
   "cell_type": "markdown",
   "id": "8e254dd9-999e-4c0c-a123-3a86b614d70f",
   "metadata": {},
   "source": [
    "### Problem 5\n",
    "#### 2881. Create a New Column [URL](https://leetcode.com/problems/create-a-new-column/description/?envType=study-plan-v2&envId=introduction-to-pandas&lang=pythondata)"
   ]
  },
  {
   "cell_type": "markdown",
   "id": "89f23a17-872f-4ea2-b69a-15ac986d673c",
   "metadata": {},
   "source": [
    "___Description___:\n",
    "The task is to modify a DataFrame named `employees` by adding a new column called `bonus`. The `bonus` column should contain values that are double the corresponding values in the `salary` column. The modified DataFrame will include the existing `name` and `salary` columns along with the newly added `bonus` column.\n",
    "\n",
    "___Solution___:\n",
    "To achieve this, we can directly create a new column in the DataFrame by assigning a calculated value to it. In this case, the `bonus` column is calculated as `salary * 2`."
   ]
  },
  {
   "cell_type": "markdown",
   "id": "63b91666-8d7f-4c83-acb2-c8c5e5d4b097",
   "metadata": {},
   "source": [
    "<h4>The Code:</h4>"
   ]
  },
  {
   "cell_type": "code",
   "execution_count": null,
   "id": "afb4b735-17d6-4b51-958f-bcc5fcf2b64b",
   "metadata": {},
   "outputs": [],
   "source": [
    "import pandas as pd\n",
    "\n",
    "def createBonusColumn(employees: pd.DataFrame) -> pd.DataFrame:\n",
    "    employees['bonus'] = employees['salary'] * 2\n",
    "    return employees\n"
   ]
  },
  {
   "cell_type": "markdown",
   "id": "c771573a-286c-4b7b-960b-d18c0afe9389",
   "metadata": {},
   "source": [
    "### Problme 6 \n",
    "#### 2882. Drop Duplicate Rows [URL](https://leetcode.com/problems/drop-duplicate-rows/description/?envType=study-plan-v2&envId=introduction-to-pandas&lang=pythondata)"
   ]
  },
  {
   "cell_type": "markdown",
   "id": "b86377f8-0237-46ab-a222-0b302bdc646b",
   "metadata": {},
   "source": [
    "___Description___:\n",
    "The task is to remove duplicate rows in a DataFrame named `customers` based on the `email` column. When duplicates are identified, only the first occurrence of each unique email should be retained in the DataFrame. The result should return the modified DataFrame with duplicates removed.\n",
    "\n",
    "___Solution___:\n",
    "To solve this, we can use the `drop_duplicates()` method in pandas. This method allows us to specify a column (or set of columns) to check for duplicates, while retaining only the first occurrence of each duplicate entry."
   ]
  },
  {
   "cell_type": "markdown",
   "id": "962574b6-dd2c-4a99-9b8f-a9efe0b91179",
   "metadata": {},
   "source": [
    "<h4>The Code</h4>"
   ]
  },
  {
   "cell_type": "code",
   "execution_count": null,
   "id": "d5cdcd29-0e78-4420-943e-0975637b1665",
   "metadata": {},
   "outputs": [],
   "source": [
    "import pandas as pd\n",
    "\n",
    "def dropDuplicateEmails(customers: pd.DataFrame) -> pd.DataFrame:\n",
    "    return customers.drop_duplicates(subset='email')\n"
   ]
  },
  {
   "cell_type": "markdown",
   "id": "159f6d72-74fe-4e93-aa5a-62a56daa68f1",
   "metadata": {},
   "source": [
    "### Problem 7\n",
    "#### 2883. Drop Missing Data [URL](https://leetcode.com/problems/drop-missing-data/description/?envType=study-plan-v2&envId=introduction-to-pandas&lang=pythondata)"
   ]
  },
  {
   "cell_type": "markdown",
   "id": "87a0a721-ec53-4a6c-bcc0-8cc0c84f7a17",
   "metadata": {},
   "source": [
    "___Description___:\n",
    "The task is to remove rows from a DataFrame named `students` that contain missing values (`None` or `NaN`) in the `name` column. The resulting DataFrame should only include rows where the `name` column has valid, non-missing data.\n",
    "\n",
    "___Solution___:\n",
    "To solve this, we can use the `dropna()` method in pandas. This method allows us to specify a subset of columns to check for missing values and removes rows where the specified column(s) contain missing data."
   ]
  },
  {
   "cell_type": "markdown",
   "id": "fe02e8fe-db42-492a-a532-b0b230b44a05",
   "metadata": {},
   "source": [
    "<h4> The Code</h4>"
   ]
  },
  {
   "cell_type": "code",
   "execution_count": null,
   "id": "d5894d5c-454c-4ee4-9985-9b472ba449e3",
   "metadata": {},
   "outputs": [],
   "source": [
    "import pandas as pd\n",
    "\n",
    "def dropMissingData(students: pd.DataFrame) -> pd.DataFrame:\n",
    "    return students.dropna(subset=['name'])\n"
   ]
  },
  {
   "cell_type": "markdown",
   "id": "f88ea18f-3b45-49d2-8a0e-34a96fd9367d",
   "metadata": {},
   "source": [
    "### Problem 8 \n",
    "#### 2884. Modify Columns [URL](https://leetcode.com/problems/modify-columns/description/?envType=study-plan-v2&envId=introduction-to-pandas&lang=pythondata)"
   ]
  },
  {
   "cell_type": "markdown",
   "id": "804fecb4-5127-4494-8313-61dfc022994c",
   "metadata": {},
   "source": [
    "___Description___:\n",
    "The task is to modify the `salary` column in a DataFrame named `employees`. Each value in the `salary` column should be multiplied by 2 to reflect a pay rise. The updated DataFrame should return the modified values in the `salary` column while keeping the `name` column unchanged.\n",
    "\n",
    "___Solution___:\n",
    "To solve this, we can directly modify the `salary` column in the DataFrame by applying the `*=` operator to double each value."
   ]
  },
  {
   "cell_type": "markdown",
   "id": "b71e24c8-c724-436c-8e05-5182df3101d2",
   "metadata": {},
   "source": [
    "<h4>The Code</h4>"
   ]
  },
  {
   "cell_type": "code",
   "execution_count": null,
   "id": "35d5399f-ccf8-4ed1-995d-88103b98be77",
   "metadata": {},
   "outputs": [],
   "source": [
    "import pandas as pd\n",
    "\n",
    "def modifySalaryColumn(employees: pd.DataFrame) -> pd.DataFrame:\n",
    "    employees['salary'] *= 2\n",
    "    return employees\n"
   ]
  },
  {
   "cell_type": "markdown",
   "id": "9eacbd1d-03a6-4e3c-949f-eea24bdba5e4",
   "metadata": {},
   "source": [
    "### Problem 9 \n",
    "#### 2885. Rename Columns [URL](https://leetcode.com/problems/rename-columns/description/?envType=study-plan-v2&envId=introduction-to-pandas&lang=pythondata)"
   ]
  },
  {
   "cell_type": "markdown",
   "id": "3b004b4f-38af-4dd5-8da5-d6795f0843d4",
   "metadata": {},
   "source": [
    "___Description___:\n",
    "The task is to rename the columns of a DataFrame named `students` as follows:\n",
    "\n",
    "`id` → `student_id`  \n",
    "`first` → `first_name`  \n",
    "`last` → `last_name`  \n",
    "`age` → `age_in_years`  \n",
    "The resulting DataFrame should reflect these updated column names, while the data in the rows remains unchanged.  \n",
    "\n",
    "___Solution___:\n",
    "To solve this, the column names of the DataFrame can be updated by assigning a new list of column names to the `columns` attribute."
   ]
  },
  {
   "cell_type": "markdown",
   "id": "64a814cb-75e6-4a74-bb38-0cbc2dac5b01",
   "metadata": {},
   "source": [
    "<h4>The Code</h4>"
   ]
  },
  {
   "cell_type": "code",
   "execution_count": null,
   "id": "0c754c2a-31e1-475f-9213-9149a161e256",
   "metadata": {},
   "outputs": [],
   "source": [
    "import pandas as pd\n",
    "\n",
    "def renameColumns(students: pd.DataFrame) -> pd.DataFrame:\n",
    "    students.columns = ['student_id', 'first_name', 'last_name', 'age_in_years']\n",
    "    return students\n"
   ]
  },
  {
   "cell_type": "markdown",
   "id": "9edba8d2-beae-428b-8255-a442ac68176c",
   "metadata": {},
   "source": [
    "### Problem 10\n",
    "#### 2886. Change Data Type [URL](https://leetcode.com/problems/change-data-type/description/?envType=study-plan-v2&envId=introduction-to-pandas&lang=pythondata])"
   ]
  },
  {
   "cell_type": "markdown",
   "id": "5deea4ca-9239-4198-916d-8cbd58d96fa2",
   "metadata": {},
   "source": [
    "___Description___:\n",
    "The task is to modify the `students` DataFrame by correcting the data type of the `grade` column. Currently, the `grade` column is stored as floats, and it needs to be converted to integers.\n",
    "\n",
    "___Solution___:\n",
    "To solve this, the `astype()` method in pandas can be used to cast the `grade` column to the `int` data type."
   ]
  },
  {
   "cell_type": "markdown",
   "id": "34f0cd2a-114f-48bb-a298-9b987976696f",
   "metadata": {},
   "source": [
    "<h4> The Code </h4>"
   ]
  },
  {
   "cell_type": "code",
   "execution_count": null,
   "id": "9ed5dc5c-119f-427f-9959-2b1ff23625f8",
   "metadata": {},
   "outputs": [],
   "source": [
    "import pandas as pd\n",
    "\n",
    "def changeDatatype(students: pd.DataFrame) -> pd.DataFrame:\n",
    "    students['grade'] = students['grade'].astype(int)\n",
    "    return students\n"
   ]
  },
  {
   "cell_type": "markdown",
   "id": "16dc84cd-d1ee-45ee-a037-aa14275f96ce",
   "metadata": {},
   "source": [
    "### Problem 11\n",
    "#### 2887. Fill Missing Data [URL](https://leetcode.com/problems/fill-missing-data/description/?envType=study-plan-v2&envId=introduction-to-pandas&lang=pythondata)"
   ]
  },
  {
   "cell_type": "markdown",
   "id": "84b6fff5-e08b-40dd-a937-12c5a605d77a",
   "metadata": {},
   "source": [
    "___Description___:\n",
    "The task is to fill missing values (NaN) in the `quantity` column of the `products` DataFrame with 0.\n",
    "\n",
    "___Solution___:\n",
    "To solve this, the `fillna()` method in pandas is used to replace all missing values in the `quantity` column with `0`."
   ]
  },
  {
   "cell_type": "markdown",
   "id": "4a91206e-e415-4af4-9e45-4f92f64fa615",
   "metadata": {},
   "source": [
    "<h4> The Code</h4>"
   ]
  },
  {
   "cell_type": "code",
   "execution_count": null,
   "id": "001090c3-1b21-4bfa-b1c9-94d4d41a1c1f",
   "metadata": {},
   "outputs": [],
   "source": [
    "import pandas as pd\n",
    "\n",
    "def fillMissingValues(products: pd.DataFrame) -> pd.DataFrame:\n",
    "    products['quantity'] = products['quantity'].fillna(0)\n",
    "    return products\n"
   ]
  },
  {
   "cell_type": "markdown",
   "id": "d529dc59-23cd-4bd5-b94f-ab3e9de17104",
   "metadata": {},
   "source": [
    "### Problem 12\n",
    "#### 2888. Reshape Data: Concatenate [URL](https://leetcode.com/problems/reshape-data-concatenate/description/?envType=study-plan-v2&envId=introduction-to-pandas&lang=pythondata)"
   ]
  },
  {
   "cell_type": "markdown",
   "id": "6bc35570-2225-487a-ad27-86bccf7c8424",
   "metadata": {},
   "source": [
    "___Description___:\n",
    "The task is to vertically concatenate two DataFrames (`df1` and `df2`) into a single DataFrame."
   ]
  },
  {
   "cell_type": "markdown",
   "id": "f2e51580-2972-4dcf-9a81-53ef4cb86218",
   "metadata": {},
   "source": [
    "<h4> The Code</h4>"
   ]
  },
  {
   "cell_type": "code",
   "execution_count": null,
   "id": "2d55230f-b15f-4f76-a7b1-ff477cfd895f",
   "metadata": {},
   "outputs": [],
   "source": [
    "import pandas as pd\n",
    "\n",
    "def concatenateTables(df1: pd.DataFrame, df2: pd.DataFrame) -> pd.DataFrame:\n",
    "    df = pd.concat([df1, df2])\n",
    "    return df\n"
   ]
  },
  {
   "cell_type": "markdown",
   "id": "10e68f7b-0e21-4a05-903e-cc79f358c5ba",
   "metadata": {},
   "source": [
    "### Problme 13\n",
    "#### 2889. Reshape Data: Pivot [URL](https://leetcode.com/problems/reshape-data-pivot/description/?envType=study-plan-v2&envId=introduction-to-pandas&lang=pythondata)"
   ]
  },
  {
   "cell_type": "markdown",
   "id": "e5294d53-70c8-4467-91bc-0447357a5509",
   "metadata": {},
   "source": [
    "___Description___:  \n",
    "The task is to pivot the data so that each row represents temperatures for a specific month, and each city is a separate column."
   ]
  },
  {
   "cell_type": "markdown",
   "id": "b85baf95-78a0-476f-b992-4b213eb54c55",
   "metadata": {},
   "source": [
    "<h4> The Code</h4>"
   ]
  },
  {
   "cell_type": "code",
   "execution_count": null,
   "id": "17e184d5-a5b4-4a09-8f7a-baba7c2bf62f",
   "metadata": {},
   "outputs": [],
   "source": [
    "import pandas as pd\n",
    "\n",
    "def pivotTable(weather: pd.DataFrame) -> pd.DataFrame:\n",
    "    pivoted = weather.pivot(index='month', columns='city', values='temperature')\n",
    "    \n",
    "    pivoted.columns.name = None \n",
    "    return pivoted\n"
   ]
  },
  {
   "cell_type": "markdown",
   "id": "be1a7aca-c413-4aa0-b482-403d0ac05c93",
   "metadata": {},
   "source": [
    "### Problem 14\n",
    "#### 2890. Reshape Data: Melt [URL](https://leetcode.com/problems/reshape-data-melt/description/?envType=study-plan-v2&envId=introduction-to-pandas&lang=pythondata)"
   ]
  },
  {
   "cell_type": "markdown",
   "id": "079162ae-79ef-4b2f-b191-2eb32bff77b3",
   "metadata": {},
   "source": [
    "___Description___:\n",
    "The task is to reshape the data so that each row represents sales data for a product in a specific"
   ]
  },
  {
   "cell_type": "markdown",
   "id": "1d8ecb8f-2592-4aaf-900a-053501a705fc",
   "metadata": {},
   "source": [
    "<h4> The code</h4>"
   ]
  },
  {
   "cell_type": "code",
   "execution_count": null,
   "id": "8464fe16-db1a-4039-aa71-8fa0a312a3c6",
   "metadata": {},
   "outputs": [],
   "source": [
    "import pandas as pd\n",
    "\n",
    "def meltTable(report: pd.DataFrame) -> pd.DataFrame:\n",
    "    df = report.melt(id_vars=['product'], var_name='quarter', value_name='sales')\n",
    "    return df\n"
   ]
  },
  {
   "cell_type": "markdown",
   "id": "f3334b69-87f7-4748-8d9e-e1f6a12b332d",
   "metadata": {},
   "source": [
    "#### ___Note___\n",
    "the difference between `join` and `melt` and `pivot`"
   ]
  },
  {
   "cell_type": "markdown",
   "id": "42fbe27c-ac9b-4cc1-9ead-a49a404955d6",
   "metadata": {},
   "source": [
    "### 1. Join\n",
    "- ___Purpose___: The `join` operation is used to combine two or more DataFrames based on a common column or index. It’s commonly used when you want to merge two datasets based on a key column (or index).\n",
    "\n",
    "- ___Use Case___: You would use `join` when you want to add additional columns from another DataFrame to an existing one based on a common identifier. This is similar to SQL joins (inner, outer, left, right).\n",
    "\n",
    "- ___Example___: Suppose you have two DataFrames: one with student names and IDs, and another with student IDs and their grades. You would use `join` to combine these based on the `student_id`."
   ]
  },
  {
   "cell_type": "code",
   "execution_count": null,
   "id": "5fb1b780-0762-4779-ba46-74c4ed63f9c8",
   "metadata": {},
   "outputs": [],
   "source": [
    "df1 = pd.DataFrame({'student_id': [1, 2, 3], 'name': ['Alice', 'Bob', 'Charlie']})\n",
    "df2 = pd.DataFrame({'student_id': [1, 2, 3], 'grade': [85, 90, 88]})\n",
    "\n",
    "result = df1.set_index('student_id').join(df2.set_index('student_id'))\n"
   ]
  },
  {
   "cell_type": "markdown",
   "id": "d5ffd57f-768a-4d9b-9d9e-2ec9288ecddf",
   "metadata": {},
   "source": [
    "### 2. Melt\n",
    "- ___Purpose___: The `melt` operation is used to transform a DataFrame from a wide format to a long format. In this case, columns are unpivoted (collapsed into rows) to create a more normalized or tidy structure, where you have one column for values and one column for the variable names.\n",
    "\n",
    "- ___Use Case___: You use `melt` when you need to convert a DataFrame with multiple columns for variables (e.g., sales per quarter) into a format where each row represents one variable value for a specific instance. It's typically used when you want to analyze the data by categories or time periods (like quarters or months).\n",
    "\n",
    "- ___Example___: Suppose you have sales data for different products across four quarters, and you want to reshape it so that each row represents sales for a product in a specific quarter."
   ]
  },
  {
   "cell_type": "code",
   "execution_count": null,
   "id": "2ac00fd8-d7a9-4468-b5d5-4d8d51308536",
   "metadata": {},
   "outputs": [],
   "source": [
    "df = pd.DataFrame({\n",
    "    'product': ['A', 'B'],\n",
    "    'quarter_1': [100, 200],\n",
    "    'quarter_2': [150, 250],\n",
    "    'quarter_3': [200, 300],\n",
    "    'quarter_4': [250, 350]\n",
    "})\n",
    "\n",
    "result = df.melt(id_vars=['product'], var_name='quarter', value_name='sales')\n"
   ]
  },
  {
   "cell_type": "markdown",
   "id": "94c2cef6-9a7d-4835-8ced-8b07a126fb3c",
   "metadata": {},
   "source": [
    "The result will have columns `product`, `quarter`, and `sales` in long format."
   ]
  },
  {
   "cell_type": "markdown",
   "id": "7df531e0-d188-4cec-803a-03d538a5610e",
   "metadata": {},
   "source": [
    "### 3. Pivot\n",
    "- ___Purpose___: The `pivot` operation is used to reshape data in the opposite direction of `melt`. It’s used to convert a long-format DataFrame back into a wide format by creating a new column for each unique value in a categorical column (like `city`), with the values filled in the corresponding cells (like `temperature`).\n",
    "\n",
    "- ___Use Case___: You would use `pivot` when you want to convert a long-format DataFrame back to a wide format, where each row corresponds to a specific index (e.g., months) and each column corresponds to a category (e.g., cities).\n",
    "\n",
    "- ___Example___: Suppose you have temperature data for different cities and months, and you want to pivot it so that each city is a separate column, and each row represents temperatures for a specific month."
   ]
  },
  {
   "cell_type": "code",
   "execution_count": null,
   "id": "331dc732-1c7a-4c35-84bc-d441c97f46b3",
   "metadata": {},
   "outputs": [],
   "source": [
    "df = pd.DataFrame({\n",
    "    'city': ['Jacksonville', 'Jacksonville', 'ElPaso', 'ElPaso'],\n",
    "    'month': ['January', 'February', 'January', 'February'],\n",
    "    'temperature': [13, 23, 20, 6]\n",
    "})\n",
    "\n",
    "result = df.pivot(index='month', columns='city', values='temperature')\n"
   ]
  },
  {
   "cell_type": "markdown",
   "id": "af523e02-a6cb-4212-8714-970f53559bb8",
   "metadata": {},
   "source": [
    "The result will have `month` as the index, with columns for each city (`ElPaso`, `Jacksonville`), and the values filled with temperature data.\n"
   ]
  },
  {
   "cell_type": "markdown",
   "id": "1bc4c6ad-5b6a-4ec4-8a34-1d8df225ff67",
   "metadata": {},
   "source": [
    "| Operation  | Purpose                                     | When to Use                                                      | Example                                                                 |\n",
    "|------------|---------------------------------------------|------------------------------------------------------------------|-------------------------------------------------------------------------|\n",
    "| **Join**   | Combines two DataFrames on a common column. | When you need to add columns from one DataFrame to another based on a key column. | Combining customer information with order details using a common `customer_id`. |\n",
    "| **Melt**   | Converts wide-format data to long-format.   | When you need to \"unpivot\" multiple columns into a single column for analysis by categories. | Converting sales data from multiple quarters into a long format.       |\n",
    "| **Pivot**  | Converts long-format data to wide-format.  | When you need to \"pivot\" a DataFrame back to a wide format, with columns for categories and rows for instances. | Reshaping weather data to show each city as a separate column with temperature values. |\n"
   ]
  },
  {
   "cell_type": "markdown",
   "id": "f0d6a58d-83dd-4067-8a26-d7845d99b9da",
   "metadata": {},
   "source": [
    "### Problem 15 \n",
    "#### 2891. Method Chaining [URL](https://leetcode.com/problems/method-chaining/description/?envType=study-plan-v2&envId=introduction-to-pandas&lang=pythondata)"
   ]
  },
  {
   "cell_type": "markdown",
   "id": "a021d630-02db-4a02-8558-9f0287fc4e8a",
   "metadata": {},
   "source": [
    "You are given a DataFrame `animals` containing information about animals with the following columns:\n",
    "\n",
    "- `name`: The name of the animal.\n",
    "- `species`: The species of the animal.\n",
    "- `age`: The age of the animal.\n",
    "- `weight`: The weight of the animal.\n",
    "The task is to list the names of animals that weigh strictly more than 100 kilograms, sorted by their weight in descending order.\n",
    "\n",
    "\n",
    "To solve this problem, we use method chaining in Pandas, where multiple operations are performed on a DataFrame in a single line of code.\n",
    "\n",
    "- 1 ___Filter___: We first filter the animals that weigh more than 100 kilograms using `animals[animals['weight'] > 100]`.\n",
    "- 2 ___Sort___: Then, we sort the filtered DataFrame by the `weight` column in descending order using `.sort_values(by='weight', ascending=False)`.\n",
    "- 3 ___Select `name` column___: Finally, we extract and return only the `name` column of the sorted DataFrame with `[[name']]`."
   ]
  },
  {
   "cell_type": "code",
   "execution_count": null,
   "id": "c0a8ef62-fa02-45d0-b4a6-d735e1e2a578",
   "metadata": {},
   "outputs": [],
   "source": [
    "import pandas as pd\n",
    "\n",
    "def findHeavyAnimals(animals: pd.DataFrame) -> pd.DataFrame:\n",
    "    return animals[animals['weight'] > 100].sort_values(by='weight', ascending=False)[['name']]\n"
   ]
  },
  {
   "cell_type": "markdown",
   "id": "157d28c0-8684-4160-9c09-99e30e4f31b4",
   "metadata": {},
   "source": [
    "<h2> This is every Thing ❤</h2>"
   ]
  },
  {
   "cell_type": "markdown",
   "id": "ed93c4fb-e819-462e-b003-45066b662d81",
   "metadata": {},
   "source": []
  },
  {
   "cell_type": "markdown",
   "id": "bbb9ca83-3d8e-443e-827b-9b424f0a8d2e",
   "metadata": {},
   "source": []
  }
 ],
 "metadata": {
  "kernelspec": {
   "display_name": "Python 3 (ipykernel)",
   "language": "python",
   "name": "python3"
  },
  "language_info": {
   "codemirror_mode": {
    "name": "ipython",
    "version": 3
   },
   "file_extension": ".py",
   "mimetype": "text/x-python",
   "name": "python",
   "nbconvert_exporter": "python",
   "pygments_lexer": "ipython3",
   "version": "3.13.0"
  }
 },
 "nbformat": 4,
 "nbformat_minor": 5
}
